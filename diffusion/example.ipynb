{
 "cells": [
  {
   "cell_type": "markdown",
   "metadata": {},
   "source": [
    "Start with a toy dataset used in one of the first diffusion papers [Sohl-Dickstein et.al. 2015], where $$ \\Kset \\subset \\R^2 $$ are points sampled from a spiral. We first construct and visualize this dataset"
   ]
  },
  {
   "cell_type": "code",
   "execution_count": null,
   "metadata": {},
   "outputs": [],
   "source": [
    "dataset = Swissroll(np.pi/2, 5*np.pi, 100)\n",
    "loader  = DataLoader(dataset, batch_size=2048)"
   ]
  },
  {
   "cell_type": "code",
   "execution_count": null,
   "metadata": {},
   "outputs": [],
   "source": []
  }
 ],
 "metadata": {
  "language_info": {
   "name": "python"
  }
 },
 "nbformat": 4,
 "nbformat_minor": 2
}
